{
 "cells": [
  {
   "cell_type": "markdown",
   "id": "6062e785",
   "metadata": {},
   "source": [
    "#### Just add path to test-dataset in 2nd cell here and run all cells to get AUC and Accuracy metrics in the last cell"
   ]
  },
  {
   "cell_type": "code",
   "execution_count": null,
   "id": "23cc43f0",
   "metadata": {},
   "outputs": [],
   "source": [
    "import numpy as np\n",
    "from matplotlib import pyplot as plt\n",
    "import librosa\n",
    "import librosa.display\n",
    "import skimage.io\n",
    "import os\n",
    "import cv2\n",
    "from pydub import AudioSegment\n",
    "import tensorflow as tf\n",
    "from tensorflow import keras\n",
    "from keras.layers import Dense, Conv2D, MaxPool2D, MaxPooling2D, BatchNormalization, Flatten, Dropout, ZeroPadding2D, concatenate, Input\n",
    "from keras.models import Model, Sequential\n",
    "from keras import regularizers"
   ]
  },
  {
   "cell_type": "code",
   "execution_count": null,
   "id": "aa45b083",
   "metadata": {},
   "outputs": [],
   "source": [
    "testDB = input(\"Enter path to dataset: \")"
   ]
  },
  {
   "cell_type": "code",
   "execution_count": null,
   "id": "ee814d4d",
   "metadata": {},
   "outputs": [],
   "source": [
    "test_files = os.listdir(testDB)"
   ]
  },
  {
   "cell_type": "code",
   "execution_count": null,
   "id": "06e84633",
   "metadata": {},
   "outputs": [],
   "source": [
    "wav_files = []\n",
    "txt_files = []\n",
    "\n",
    "for trfile in test_files:\n",
    "    if trfile[-3:] == \"txt\":\n",
    "        txt_files.append(trfile)\n",
    "    elif trfile[-3:] == \"wav\":\n",
    "        wav_files.append(trfile)"
   ]
  },
  {
   "cell_type": "code",
   "execution_count": null,
   "id": "10ed4b76",
   "metadata": {},
   "outputs": [],
   "source": [
    "breathing_cycles = {}\n",
    "\n",
    "for txfile in txt_files:\n",
    "    txpath = os.path.join(testDB, txfile)\n",
    "    t = open(txpath, 'r')\n",
    "    content = t.readlines()\n",
    "    breathing_cycles[txfile[:-4]] = []\n",
    "    \n",
    "    for line in content:\n",
    "        data = line[:-1].split(\"\\t\")\n",
    "        breathing_cycles[txfile[:-4]].append((data[0], data[1]))"
   ]
  },
  {
   "cell_type": "code",
   "execution_count": null,
   "id": "07b53bb5",
   "metadata": {},
   "outputs": [],
   "source": [
    "os.mkdir(\"test_parted_audfiles\")\n",
    "\n",
    "for wfile in wav_files:\n",
    "    wf_path = os.path.join(testDB, wfile)\n",
    "    bcs = breathing_cycles[wfile[:-4]]\n",
    "    i = 0\n",
    "    \n",
    "    for bc in bcs:\n",
    "        i += 1\n",
    "        start = float(bc[0]) * 1000\n",
    "        end = float(bc[1]) * 1000\n",
    "        \n",
    "        AS = AudioSegment.from_wav(wf_path)\n",
    "        AS = AS[start: end]\n",
    "        AS.export(\"test_parted_audfiles/\" + wfile[:-4] + \"{}\".format(i) + \".wav\", format = \"wav\")"
   ]
  },
  {
   "cell_type": "code",
   "execution_count": null,
   "id": "77de42d2",
   "metadata": {},
   "outputs": [],
   "source": [
    "part_wav_files = os.listdir(\"test_parted_audfiles\")"
   ]
  },
  {
   "cell_type": "code",
   "execution_count": null,
   "id": "7c5497a8",
   "metadata": {},
   "outputs": [],
   "source": [
    "extra_feats = {}\n",
    "cls = {'Ar': 0, 'Tc': 1, 'Al': 2, 'Pl': 3, 'Pr': 4, 'Ll': 5, 'Lr': 6}\n",
    "re = {'LittC2SE': 0, 'Meditron': 1, 'Litt3200': 2, 'AKGC417L': 3}\n",
    "\n",
    "for pwfile in part_wav_files:\n",
    "    pwpath = os.path.join(testDB, pwfile)\n",
    "    extra_feats[pwfile] = []\n",
    "    \n",
    "    extra_feats[pwfile].extend([cls[pwfile[8: 10]], re[pwfile[14: 22]]])"
   ]
  },
  {
   "cell_type": "code",
   "execution_count": null,
   "id": "fa667b06",
   "metadata": {},
   "outputs": [],
   "source": [
    "hard_feats = list(extra_feats.values())"
   ]
  },
  {
   "cell_type": "code",
   "execution_count": null,
   "id": "df0c87ca",
   "metadata": {},
   "outputs": [],
   "source": [
    "part_wav_files"
   ]
  },
  {
   "cell_type": "code",
   "execution_count": null,
   "id": "eb50a68f",
   "metadata": {},
   "outputs": [],
   "source": [
    "# making the spectrograms of the parted audiofiles\n",
    "os.mkdir(\"test_parted_spectrograms\")\n",
    "\n",
    "def scale_minmax(X, min=0.0, max=1.0):\n",
    "    X_std = (X - X.min()) / (X.max() - X.min())\n",
    "    X_scaled = X_std * (max - min) + min\n",
    "    return X_scaled\n",
    "\n",
    "spectrograms = []\n",
    "srs = []\n",
    "\n",
    "for pwfile in part_wav_files:\n",
    "    pwf_path = os.path.join(\"test_parted_audfiles\", pwfile)\n",
    "    aud, sr = librosa.load(pwf_path)\n",
    "    \n",
    "    S = librosa.feature.melspectrogram(y=aud, sr=sr, n_mels=128, fmax=8000, hop_length=512)\n",
    "    \n",
    "    fig, ax = plt.subplots()\n",
    "    S_dB = librosa.power_to_db(S, ref=np.max)\n",
    "    S_dB = scale_minmax(S_dB, 0, 255).astype(np.uint8)\n",
    "    S_dB = np.flip(S_dB, axis = 0)\n",
    "    S_dB = 255 - S_dB\n",
    "    S_dB = cv2.resize(S_dB, (128, 128), interpolation = cv2.INTER_CUBIC)\n",
    "\n",
    "    skimage.io.imsave(\"test_parted_spectrograms/\" + pwfile[:-4] + \"spec.png\", S_dB)"
   ]
  },
  {
   "cell_type": "code",
   "execution_count": null,
   "id": "4e13c581",
   "metadata": {},
   "outputs": [],
   "source": [
    "pspecs = os.listdir(\"test_parted_spectrograms\")"
   ]
  },
  {
   "cell_type": "code",
   "execution_count": null,
   "id": "13b48d3e",
   "metadata": {},
   "outputs": [],
   "source": [
    "X_specs = []\n",
    "\n",
    "for pspec in pspecs:\n",
    "    pspec_img = cv2.imread(os.path.join(\"test_parted_spectrograms\", pspec))\n",
    "    X_specs.append(pspec_img)"
   ]
  },
  {
   "cell_type": "code",
   "execution_count": null,
   "id": "851c4e5a",
   "metadata": {},
   "outputs": [],
   "source": [
    "# Normalizing the data\n",
    "for i in range(len(X_specs)):\n",
    "    X_specs[i] = X_specs[i] / 255.0\n",
    "    X_specs[i] = X_specs[i].reshape(X_specs[i].shape[0:3])\n",
    "    X_specs[i] = np.array(X_specs[i].astype(\"float32\"))"
   ]
  },
  {
   "cell_type": "code",
   "execution_count": null,
   "id": "dfbb491f",
   "metadata": {},
   "outputs": [],
   "source": [
    "X_test = list(zip(X_specs, hard_feats))"
   ]
  },
  {
   "cell_type": "code",
   "execution_count": null,
   "id": "965b3dc4",
   "metadata": {},
   "outputs": [],
   "source": [
    "test_hard = []\n",
    "test_x = []\n",
    "\n",
    "for e in X_test:\n",
    "    test_hard.append(e[1])\n",
    "    test_x.append(e[0])\n",
    "    \n",
    "test_x = np.array(test_x)\n",
    "test_hard = np.array(test_hard)"
   ]
  },
  {
   "cell_type": "code",
   "execution_count": null,
   "id": "bfbea484",
   "metadata": {},
   "outputs": [],
   "source": [
    "# Y_test = np.array(Y_labels)"
   ]
  },
  {
   "cell_type": "code",
   "execution_count": null,
   "id": "4cf0f43c",
   "metadata": {},
   "outputs": [],
   "source": [
    "def conv_block():\n",
    "    return keras.Sequential([\n",
    "        ZeroPadding2D(padding = (1, 1)),\n",
    "        Conv2D(64, 3, padding = \"valid\", activation = \"ReLU\"),\n",
    "        BatchNormalization(axis = -1),\n",
    "        MaxPool2D(pool_size = 2)\n",
    "    ])\n",
    "\n",
    "inputs = Input(shape = (128, 128, 3))\n",
    "hard_feats = Input(shape = (1, ))\n",
    "x = conv_block()(inputs)\n",
    "x = conv_block()(x)\n",
    "x = conv_block()(x)\n",
    "x = conv_block()(x)\n",
    "x = Flatten()(x)\n",
    "x = Dense(32)(x)\n",
    "x = concatenate([x, hard_feats])\n",
    "x = BatchNormalization(axis = -1)(x)\n",
    "x = Dense(2, activation = \"sigmoid\")(x)\n",
    "\n",
    "test_model = Model(inputs = [inputs, hard_feats], outputs = [x])"
   ]
  },
  {
   "cell_type": "code",
   "execution_count": null,
   "id": "e71dbd63",
   "metadata": {},
   "outputs": [],
   "source": [
    "optimizer = keras.optimizers.SGD(lr = 0.01)"
   ]
  },
  {
   "cell_type": "code",
   "execution_count": null,
   "id": "a6c75bdb",
   "metadata": {},
   "outputs": [],
   "source": [
    "test_model.compile(optimizer = optimizer, loss = \"BinaryCrossentropy\", metrics = [\"AUC\", \"accuracy\"])"
   ]
  },
  {
   "cell_type": "markdown",
   "id": "bf8670b4",
   "metadata": {},
   "source": [
    "#### Loading model parameters from model file"
   ]
  },
  {
   "cell_type": "code",
   "execution_count": null,
   "id": "e1425691",
   "metadata": {},
   "outputs": [],
   "source": [
    "test_model.load_weights(\"live_model1.pt\")"
   ]
  },
  {
   "cell_type": "code",
   "execution_count": null,
   "id": "ffff0ddb",
   "metadata": {},
   "outputs": [],
   "source": [
    "# evaluating on basis of both accuracy and Area Under ROC Curve\n",
    "\n",
    "def get_test_metrics():\n",
    "    obtained_metrics = test_model.evaluate([test_x, test_hard[:, 0]], np.array(Y_test), batch_size = 32, verbose = 0)\n",
    "\n",
    "    print(\"Obtained Metrics are:\")\n",
    "    print(\"BinaryCrossentropy Loss = \", obtained_metrics[0])\n",
    "    print(\"Area under ROC curve = \", obtained_metrics[1])\n",
    "    print(\"Accuracy = \", obtained_metrics[2] * 100, \"%\")"
   ]
  },
  {
   "cell_type": "code",
   "execution_count": null,
   "id": "16bb5f82",
   "metadata": {},
   "outputs": [],
   "source": [
    "# get_test_metrics([y_test, hard_test_y[:, 0]], Y_test)"
   ]
  },
  {
   "cell_type": "code",
   "execution_count": null,
   "id": "c012d579",
   "metadata": {},
   "outputs": [],
   "source": [
    "predicts = test_model.predict([test_x, test_hard[:, 0]])"
   ]
  },
  {
   "cell_type": "code",
   "execution_count": null,
   "id": "be53077a",
   "metadata": {},
   "outputs": [],
   "source": [
    "# applied threshold of 0.5 for prediction\n",
    "predicts[predicts < 0.5] = 0\n",
    "predicts[predicts >= 0.5] = 1"
   ]
  },
  {
   "cell_type": "code",
   "execution_count": null,
   "id": "bef42057",
   "metadata": {},
   "outputs": [],
   "source": [
    "print(predicts)"
   ]
  },
  {
   "cell_type": "code",
   "execution_count": null,
   "id": "42ee55bf",
   "metadata": {},
   "outputs": [],
   "source": []
  },
  {
   "cell_type": "code",
   "execution_count": null,
   "id": "77cd2160",
   "metadata": {},
   "outputs": [],
   "source": []
  }
 ],
 "metadata": {
  "kernelspec": {
   "display_name": "Python 3 (ipykernel)",
   "language": "python",
   "name": "python3"
  },
  "language_info": {
   "codemirror_mode": {
    "name": "ipython",
    "version": 3
   },
   "file_extension": ".py",
   "mimetype": "text/x-python",
   "name": "python",
   "nbconvert_exporter": "python",
   "pygments_lexer": "ipython3",
   "version": "3.9.13"
  }
 },
 "nbformat": 4,
 "nbformat_minor": 5
}
